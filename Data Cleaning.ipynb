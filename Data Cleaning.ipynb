{
 "cells": [
  {
   "cell_type": "markdown",
   "id": "723ca72f",
   "metadata": {},
   "source": [
    "\n",
    "## First we are going to load the dataset and check for the column values if any minor error are present which might need some data cleaning"
   ]
  },
  {
   "cell_type": "code",
   "execution_count": 2,
   "id": "db93249c",
   "metadata": {},
   "outputs": [],
   "source": [
    "# Importing Pandas and sqlite3 libraries\n",
    "\n",
    "import pandas as pd\n",
    "import sqlite3\n",
    "\n",
    "from IPython.display import display, HTML"
   ]
  },
  {
   "cell_type": "code",
   "execution_count": 3,
   "id": "5c583d8b",
   "metadata": {},
   "outputs": [],
   "source": [
    "\n",
    "# connecting with database\n",
    "conn = sqlite3.connect('Db-IMDB-Assignment.db')\n"
   ]
  },
  {
   "cell_type": "markdown",
   "id": "d6515e0b",
   "metadata": {},
   "source": [
    "* __Getting the tables from the IMDB database__"
   ]
  },
  {
   "cell_type": "code",
   "execution_count": 7,
   "id": "b3fb5688",
   "metadata": {
    "scrolled": false
   },
   "outputs": [
    {
     "data": {
      "text/html": [
       "<div>\n",
       "<style scoped>\n",
       "    .dataframe tbody tr th:only-of-type {\n",
       "        vertical-align: middle;\n",
       "    }\n",
       "\n",
       "    .dataframe tbody tr th {\n",
       "        vertical-align: top;\n",
       "    }\n",
       "\n",
       "    .dataframe thead th {\n",
       "        text-align: right;\n",
       "    }\n",
       "</style>\n",
       "<table border=\"1\" class=\"dataframe\">\n",
       "  <thead>\n",
       "    <tr style=\"text-align: right;\">\n",
       "      <th></th>\n",
       "      <th>name</th>\n",
       "    </tr>\n",
       "  </thead>\n",
       "  <tbody>\n",
       "    <tr>\n",
       "      <th>0</th>\n",
       "      <td>Movie</td>\n",
       "    </tr>\n",
       "    <tr>\n",
       "      <th>1</th>\n",
       "      <td>Genre</td>\n",
       "    </tr>\n",
       "    <tr>\n",
       "      <th>2</th>\n",
       "      <td>Language</td>\n",
       "    </tr>\n",
       "    <tr>\n",
       "      <th>3</th>\n",
       "      <td>Country</td>\n",
       "    </tr>\n",
       "    <tr>\n",
       "      <th>4</th>\n",
       "      <td>Location</td>\n",
       "    </tr>\n",
       "    <tr>\n",
       "      <th>5</th>\n",
       "      <td>M_Location</td>\n",
       "    </tr>\n",
       "    <tr>\n",
       "      <th>6</th>\n",
       "      <td>M_Country</td>\n",
       "    </tr>\n",
       "    <tr>\n",
       "      <th>7</th>\n",
       "      <td>M_Language</td>\n",
       "    </tr>\n",
       "    <tr>\n",
       "      <th>8</th>\n",
       "      <td>M_Genre</td>\n",
       "    </tr>\n",
       "    <tr>\n",
       "      <th>9</th>\n",
       "      <td>Person</td>\n",
       "    </tr>\n",
       "    <tr>\n",
       "      <th>10</th>\n",
       "      <td>M_Producer</td>\n",
       "    </tr>\n",
       "    <tr>\n",
       "      <th>11</th>\n",
       "      <td>M_Director</td>\n",
       "    </tr>\n",
       "    <tr>\n",
       "      <th>12</th>\n",
       "      <td>M_Cast</td>\n",
       "    </tr>\n",
       "  </tbody>\n",
       "</table>\n",
       "</div>"
      ],
      "text/plain": [
       "          name\n",
       "0        Movie\n",
       "1        Genre\n",
       "2     Language\n",
       "3      Country\n",
       "4     Location\n",
       "5   M_Location\n",
       "6    M_Country\n",
       "7   M_Language\n",
       "8      M_Genre\n",
       "9       Person\n",
       "10  M_Producer\n",
       "11  M_Director\n",
       "12      M_Cast"
      ]
     },
     "execution_count": 7,
     "metadata": {},
     "output_type": "execute_result"
    }
   ],
   "source": [
    "\n",
    "query = \"\"\"\n",
    "SELECT NAME FROM sqlite_master WHERE type='table';\"\"\"\n",
    "\n",
    "pd.read_sql_query(query, conn)"
   ]
  },
  {
   "cell_type": "markdown",
   "id": "b2b48300",
   "metadata": {},
   "source": [
    "* __Getting information about the 'Movie' table__"
   ]
  },
  {
   "cell_type": "code",
   "execution_count": 8,
   "id": "ca4f1305",
   "metadata": {
    "scrolled": false
   },
   "outputs": [
    {
     "data": {
      "text/html": [
       "<div>\n",
       "<style scoped>\n",
       "    .dataframe tbody tr th:only-of-type {\n",
       "        vertical-align: middle;\n",
       "    }\n",
       "\n",
       "    .dataframe tbody tr th {\n",
       "        vertical-align: top;\n",
       "    }\n",
       "\n",
       "    .dataframe thead th {\n",
       "        text-align: right;\n",
       "    }\n",
       "</style>\n",
       "<table border=\"1\" class=\"dataframe\">\n",
       "  <thead>\n",
       "    <tr style=\"text-align: right;\">\n",
       "      <th></th>\n",
       "      <th>cid</th>\n",
       "      <th>name</th>\n",
       "      <th>type</th>\n",
       "      <th>notnull</th>\n",
       "      <th>dflt_value</th>\n",
       "      <th>pk</th>\n",
       "    </tr>\n",
       "  </thead>\n",
       "  <tbody>\n",
       "    <tr>\n",
       "      <th>0</th>\n",
       "      <td>0</td>\n",
       "      <td>index</td>\n",
       "      <td>INTEGER</td>\n",
       "      <td>0</td>\n",
       "      <td>None</td>\n",
       "      <td>0</td>\n",
       "    </tr>\n",
       "    <tr>\n",
       "      <th>1</th>\n",
       "      <td>1</td>\n",
       "      <td>MID</td>\n",
       "      <td>TEXT</td>\n",
       "      <td>0</td>\n",
       "      <td>None</td>\n",
       "      <td>0</td>\n",
       "    </tr>\n",
       "    <tr>\n",
       "      <th>2</th>\n",
       "      <td>2</td>\n",
       "      <td>title</td>\n",
       "      <td>TEXT</td>\n",
       "      <td>0</td>\n",
       "      <td>None</td>\n",
       "      <td>0</td>\n",
       "    </tr>\n",
       "    <tr>\n",
       "      <th>3</th>\n",
       "      <td>3</td>\n",
       "      <td>year</td>\n",
       "      <td>TEXT</td>\n",
       "      <td>0</td>\n",
       "      <td>None</td>\n",
       "      <td>0</td>\n",
       "    </tr>\n",
       "    <tr>\n",
       "      <th>4</th>\n",
       "      <td>4</td>\n",
       "      <td>rating</td>\n",
       "      <td>REAL</td>\n",
       "      <td>0</td>\n",
       "      <td>None</td>\n",
       "      <td>0</td>\n",
       "    </tr>\n",
       "    <tr>\n",
       "      <th>5</th>\n",
       "      <td>5</td>\n",
       "      <td>num_votes</td>\n",
       "      <td>INTEGER</td>\n",
       "      <td>0</td>\n",
       "      <td>None</td>\n",
       "      <td>0</td>\n",
       "    </tr>\n",
       "  </tbody>\n",
       "</table>\n",
       "</div>"
      ],
      "text/plain": [
       "   cid       name     type  notnull dflt_value  pk\n",
       "0    0      index  INTEGER        0       None   0\n",
       "1    1        MID     TEXT        0       None   0\n",
       "2    2      title     TEXT        0       None   0\n",
       "3    3       year     TEXT        0       None   0\n",
       "4    4     rating     REAL        0       None   0\n",
       "5    5  num_votes  INTEGER        0       None   0"
      ]
     },
     "execution_count": 8,
     "metadata": {},
     "output_type": "execute_result"
    }
   ],
   "source": [
    "query =\"\"\"\n",
    "PRAGMA TABLE_INFO (Movie) ;\"\"\"\n",
    "\n",
    "pd.read_sql_query(query, conn)"
   ]
  },
  {
   "cell_type": "markdown",
   "id": "265e7bd4",
   "metadata": {},
   "source": [
    "\n",
    "### Checking for discrepancies in year values "
   ]
  },
  {
   "cell_type": "code",
   "execution_count": 9,
   "id": "bacf8884",
   "metadata": {
    "scrolled": false
   },
   "outputs": [
    {
     "data": {
      "text/html": [
       "<div>\n",
       "<style scoped>\n",
       "    .dataframe tbody tr th:only-of-type {\n",
       "        vertical-align: middle;\n",
       "    }\n",
       "\n",
       "    .dataframe tbody tr th {\n",
       "        vertical-align: top;\n",
       "    }\n",
       "\n",
       "    .dataframe thead th {\n",
       "        text-align: right;\n",
       "    }\n",
       "</style>\n",
       "<table border=\"1\" class=\"dataframe\">\n",
       "  <thead>\n",
       "    <tr style=\"text-align: right;\">\n",
       "      <th></th>\n",
       "      <th>year</th>\n",
       "    </tr>\n",
       "  </thead>\n",
       "  <tbody>\n",
       "    <tr>\n",
       "      <th>0</th>\n",
       "      <td>2018</td>\n",
       "    </tr>\n",
       "    <tr>\n",
       "      <th>1</th>\n",
       "      <td>2012</td>\n",
       "    </tr>\n",
       "    <tr>\n",
       "      <th>2</th>\n",
       "      <td>2016</td>\n",
       "    </tr>\n",
       "    <tr>\n",
       "      <th>3</th>\n",
       "      <td>2017</td>\n",
       "    </tr>\n",
       "    <tr>\n",
       "      <th>4</th>\n",
       "      <td>2008</td>\n",
       "    </tr>\n",
       "    <tr>\n",
       "      <th>...</th>\n",
       "      <td>...</td>\n",
       "    </tr>\n",
       "    <tr>\n",
       "      <th>120</th>\n",
       "      <td>IV 2017</td>\n",
       "    </tr>\n",
       "    <tr>\n",
       "      <th>121</th>\n",
       "      <td>1943</td>\n",
       "    </tr>\n",
       "    <tr>\n",
       "      <th>122</th>\n",
       "      <td>1950</td>\n",
       "    </tr>\n",
       "    <tr>\n",
       "      <th>123</th>\n",
       "      <td>I 1969</td>\n",
       "    </tr>\n",
       "    <tr>\n",
       "      <th>124</th>\n",
       "      <td>II 2009</td>\n",
       "    </tr>\n",
       "  </tbody>\n",
       "</table>\n",
       "<p>125 rows × 1 columns</p>\n",
       "</div>"
      ],
      "text/plain": [
       "        year\n",
       "0       2018\n",
       "1       2012\n",
       "2       2016\n",
       "3       2017\n",
       "4       2008\n",
       "..       ...\n",
       "120  IV 2017\n",
       "121     1943\n",
       "122     1950\n",
       "123   I 1969\n",
       "124  II 2009\n",
       "\n",
       "[125 rows x 1 columns]"
      ]
     },
     "execution_count": 9,
     "metadata": {},
     "output_type": "execute_result"
    }
   ],
   "source": [
    "query =\"\"\"\n",
    "SELECT DISTINCT year FROM Movie ;\"\"\"\n",
    "\n",
    "pd.read_sql_query(query, conn)"
   ]
  },
  {
   "cell_type": "markdown",
   "id": "1945dd9a",
   "metadata": {},
   "source": [
    "* __We can see the years have some roman numerics and unwanted white spaces in between them. We need to clean those.__"
   ]
  },
  {
   "cell_type": "markdown",
   "id": "8cc37493",
   "metadata": {},
   "source": [
    "* __We also will clean the different ids like, MID,PID,GID by trimming down the white spaces before and after them. Since the ids are vital while joining 2 or more tables, we should keep them error free.__\n"
   ]
  },
  {
   "cell_type": "markdown",
   "id": "8fcb6765",
   "metadata": {},
   "source": [
    "\n",
    "**NB-**   *I faced much issues when i tried data analysis using this data before cleaning it. Dont forget doing this cleaning to save time!*"
   ]
  },
  {
   "cell_type": "markdown",
   "id": "2efd1e6a",
   "metadata": {},
   "source": [
    "**Dependencies**\n",
    "- pip install ipython-sql"
   ]
  },
  {
   "cell_type": "markdown",
   "id": "e2d88075",
   "metadata": {},
   "source": [
    "\n",
    "## Data Cleaning"
   ]
  },
  {
   "cell_type": "code",
   "execution_count": 22,
   "id": "76c8fbea",
   "metadata": {},
   "outputs": [],
   "source": [
    "#loading SQL module\n",
    "%load_ext sql\n",
    "\n",
    "#connect to the database\n",
    "%sql sqlite:///Db-IMDB-Assignment.db"
   ]
  },
  {
   "cell_type": "code",
   "execution_count": 23,
   "id": "8ec91a77",
   "metadata": {},
   "outputs": [
    {
     "name": "stdout",
     "output_type": "stream",
     "text": [
      " * sqlite:///Db-IMDB-Assignment.db\n",
      "3473 rows affected.\n",
      "3473 rows affected.\n",
      "3473 rows affected.\n",
      "3473 rows affected.\n",
      "3473 rows affected.\n",
      "3473 rows affected.\n",
      "11749 rows affected.\n",
      "11749 rows affected.\n",
      "3473 rows affected.\n",
      "3473 rows affected.\n",
      "82835 rows affected.\n",
      "82835 rows affected.\n",
      "3473 rows affected.\n",
      "3473 rows affected.\n",
      "328 rows affected.\n",
      "328 rows affected.\n",
      "37566 rows affected.\n",
      "37566 rows affected.\n",
      "37566 rows affected.\n",
      "Wall time: 4.76 s\n"
     ]
    },
    {
     "data": {
      "text/plain": [
       "[]"
      ]
     },
     "execution_count": 23,
     "metadata": {},
     "output_type": "execute_result"
    }
   ],
   "source": [
    "\n",
    "%%time\n",
    "%%sql\n",
    "\n",
    "UPDATE Movie SET year = REPLACE(year, \"I\", \"\");\n",
    "UPDATE Movie SET year = REPLACE(year, \"V\", \"\");\n",
    "UPDATE Movie SET year = REPLACE(year, \"X\", \"\");\n",
    "UPDATE Movie SET year = TRIM(year);\n",
    "UPDATE Movie SET title = TRIM(title);\n",
    "UPDATE Movie SET MID = TRIM(MID);\n",
    "\n",
    "UPDATE M_Producer SET PID = TRIM(PID);\n",
    "UPDATE M_Producer SET MID = TRIM(MID);\n",
    "\n",
    "UPDATE M_Director SET PID = TRIM(PID);\n",
    "UPDATE M_Director SET MID = TRIM(MID);\n",
    "\n",
    "UPDATE M_Cast SET PID = TRIM(PID);\n",
    "UPDATE M_Cast SET MID = TRIM(MID);\n",
    "\n",
    "UPDATE M_Genre SET GID = TRIM(GID);\n",
    "UPDATE M_Genre SET MID = TRIM(MID);\n",
    "\n",
    "UPDATE Genre SET GID = TRIM(GID);\n",
    "UPDATE Genre SET Name = TRIM(Name);\n",
    "\n",
    "UPDATE Person SET Name = TRIM(Name);\n",
    "UPDATE Person SET PID = TRIM(PID);\n",
    "UPDATE Person SET Gender = TRIM(Gender);\n",
    "\n"
   ]
  },
  {
   "cell_type": "markdown",
   "id": "7d370e65",
   "metadata": {},
   "source": [
    "* __Lets check if the discrepancies in data got corrected or not.__"
   ]
  },
  {
   "cell_type": "code",
   "execution_count": 24,
   "id": "961ce3bf",
   "metadata": {},
   "outputs": [
    {
     "data": {
      "text/html": [
       "<div>\n",
       "<style scoped>\n",
       "    .dataframe tbody tr th:only-of-type {\n",
       "        vertical-align: middle;\n",
       "    }\n",
       "\n",
       "    .dataframe tbody tr th {\n",
       "        vertical-align: top;\n",
       "    }\n",
       "\n",
       "    .dataframe thead th {\n",
       "        text-align: right;\n",
       "    }\n",
       "</style>\n",
       "<table border=\"1\" class=\"dataframe\">\n",
       "  <thead>\n",
       "    <tr style=\"text-align: right;\">\n",
       "      <th></th>\n",
       "      <th>year</th>\n",
       "    </tr>\n",
       "  </thead>\n",
       "  <tbody>\n",
       "    <tr>\n",
       "      <th>0</th>\n",
       "      <td>2018</td>\n",
       "    </tr>\n",
       "    <tr>\n",
       "      <th>1</th>\n",
       "      <td>2012</td>\n",
       "    </tr>\n",
       "    <tr>\n",
       "      <th>2</th>\n",
       "      <td>2016</td>\n",
       "    </tr>\n",
       "    <tr>\n",
       "      <th>3</th>\n",
       "      <td>2017</td>\n",
       "    </tr>\n",
       "    <tr>\n",
       "      <th>4</th>\n",
       "      <td>2008</td>\n",
       "    </tr>\n",
       "    <tr>\n",
       "      <th>...</th>\n",
       "      <td>...</td>\n",
       "    </tr>\n",
       "    <tr>\n",
       "      <th>73</th>\n",
       "      <td>1947</td>\n",
       "    </tr>\n",
       "    <tr>\n",
       "      <th>74</th>\n",
       "      <td>1936</td>\n",
       "    </tr>\n",
       "    <tr>\n",
       "      <th>75</th>\n",
       "      <td>1946</td>\n",
       "    </tr>\n",
       "    <tr>\n",
       "      <th>76</th>\n",
       "      <td>1943</td>\n",
       "    </tr>\n",
       "    <tr>\n",
       "      <th>77</th>\n",
       "      <td>1950</td>\n",
       "    </tr>\n",
       "  </tbody>\n",
       "</table>\n",
       "<p>78 rows × 1 columns</p>\n",
       "</div>"
      ],
      "text/plain": [
       "    year\n",
       "0   2018\n",
       "1   2012\n",
       "2   2016\n",
       "3   2017\n",
       "4   2008\n",
       "..   ...\n",
       "73  1947\n",
       "74  1936\n",
       "75  1946\n",
       "76  1943\n",
       "77  1950\n",
       "\n",
       "[78 rows x 1 columns]"
      ]
     },
     "execution_count": 24,
     "metadata": {},
     "output_type": "execute_result"
    }
   ],
   "source": [
    "query =\"\"\"\n",
    "SELECT DISTINCT year FROM Movie ;\"\"\"\n",
    "\n",
    "pd.read_sql_query(query, conn)"
   ]
  },
  {
   "cell_type": "markdown",
   "id": "cda7c395",
   "metadata": {},
   "source": [
    "- **As we can see the wanted roman numerics and the white space is removed. And our whole database has been modified and cleaned properly.**"
   ]
  }
 ],
 "metadata": {
  "kernelspec": {
   "display_name": "Python 3 (ipykernel)",
   "language": "python",
   "name": "python3"
  },
  "language_info": {
   "codemirror_mode": {
    "name": "ipython",
    "version": 3
   },
   "file_extension": ".py",
   "mimetype": "text/x-python",
   "name": "python",
   "nbconvert_exporter": "python",
   "pygments_lexer": "ipython3",
   "version": "3.8.12"
  }
 },
 "nbformat": 4,
 "nbformat_minor": 5
}
